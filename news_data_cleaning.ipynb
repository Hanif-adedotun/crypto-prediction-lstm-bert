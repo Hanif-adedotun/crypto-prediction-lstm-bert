{
 "cells": [
  {
   "cell_type": "code",
   "execution_count": 1,
   "metadata": {},
   "outputs": [],
   "source": [
    "import pandas as pd \n",
    "import numpy as np"
   ]
  },
  {
   "cell_type": "code",
   "execution_count": null,
   "metadata": {},
   "outputs": [],
   "source": [
    "news_df = pd.read_csv(\"./dataset/news-coindesk-backup.csv\")\n",
    "stock_df = pd.read_csv(\"./dataset/btcprice2019-2024.csv\")\n",
    "\n",
    "for i in range(len(stock_df)):\n",
    "    date = stock_df['Date'][i][:10]\n",
    "    stock_df['Date'][i] = date"
   ]
  },
  {
   "cell_type": "code",
   "execution_count": 7,
   "metadata": {},
   "outputs": [],
   "source": [
    "news_df = news_df[news_df['Date'].isin(stock_df['Date'].tolist())]\n",
    "\n",
    "news_df.to_csv(\"./dataset/news_data.csv\", index=False)"
   ]
  },
  {
   "cell_type": "markdown",
   "metadata": {},
   "source": [
    "Ensured all the dates between data and news are the same\n"
   ]
  },
  {
   "cell_type": "markdown",
   "metadata": {},
   "source": [
    "Now, I want to collate all news to a date"
   ]
  },
  {
   "cell_type": "code",
   "execution_count": 15,
   "metadata": {},
   "outputs": [],
   "source": [
    "# Group by the first column (date) and concatenate titles and descriptions\n",
    "collapsed_df = news_df.groupby(\"Date\").agg(lambda x: ', '.join(x.astype(str))).reset_index()"
   ]
  },
  {
   "cell_type": "code",
   "execution_count": 30,
   "metadata": {},
   "outputs": [],
   "source": [
    "# Combine Title and Description, removing any leading/trailing whitespace\n",
    "news_df['News'] = news_df['Title'] + ' ' + news_df['Description'].fillna('')\n",
    "news_df['News'] = news_df['News'].str.strip()\n",
    "\n",
    "# Group by Date and aggregate News\n",
    "grouped = news_df.groupby('Date')['News'].apply(list).reset_index()\n"
   ]
  },
  {
   "cell_type": "code",
   "execution_count": 31,
   "metadata": {},
   "outputs": [
    {
     "data": {
      "text/html": [
       "<div>\n",
       "<style scoped>\n",
       "    .dataframe tbody tr th:only-of-type {\n",
       "        vertical-align: middle;\n",
       "    }\n",
       "\n",
       "    .dataframe tbody tr th {\n",
       "        vertical-align: top;\n",
       "    }\n",
       "\n",
       "    .dataframe thead th {\n",
       "        text-align: right;\n",
       "    }\n",
       "</style>\n",
       "<table border=\"1\" class=\"dataframe\">\n",
       "  <thead>\n",
       "    <tr style=\"text-align: right;\">\n",
       "      <th></th>\n",
       "      <th>Date</th>\n",
       "      <th>News</th>\n",
       "    </tr>\n",
       "  </thead>\n",
       "  <tbody>\n",
       "    <tr>\n",
       "      <th>0</th>\n",
       "      <td>2019-01-01</td>\n",
       "      <td>[0 0]</td>\n",
       "    </tr>\n",
       "    <tr>\n",
       "      <th>1</th>\n",
       "      <td>2019-01-02</td>\n",
       "      <td>[0 0, Down More than 70% in 2018, Bitcoin Clos...</td>\n",
       "    </tr>\n",
       "    <tr>\n",
       "      <th>2</th>\n",
       "      <td>2019-01-03</td>\n",
       "      <td>[0 0, Overstock Will Pay Some of Its 2019 Taxe...</td>\n",
       "    </tr>\n",
       "    <tr>\n",
       "      <th>3</th>\n",
       "      <td>2019-01-04</td>\n",
       "      <td>[0 0, $4K Ahead? Bitcoin's Low-Volume Price Pu...</td>\n",
       "    </tr>\n",
       "    <tr>\n",
       "      <th>4</th>\n",
       "      <td>2019-01-05</td>\n",
       "      <td>[0 0, Bitcoin Payments Aren't Dead, They've Ju...</td>\n",
       "    </tr>\n",
       "    <tr>\n",
       "      <th>...</th>\n",
       "      <td>...</td>\n",
       "      <td>...</td>\n",
       "    </tr>\n",
       "    <tr>\n",
       "      <th>2071</th>\n",
       "      <td>2024-09-26</td>\n",
       "      <td>[0 0, Crypto for Advisors: The Growth of Bitco...</td>\n",
       "    </tr>\n",
       "    <tr>\n",
       "      <th>2072</th>\n",
       "      <td>2024-09-27</td>\n",
       "      <td>[0 0, The Paradox of the Bitcoin Maximalist Wh...</td>\n",
       "    </tr>\n",
       "    <tr>\n",
       "      <th>2073</th>\n",
       "      <td>2024-09-28</td>\n",
       "      <td>[0 0]</td>\n",
       "    </tr>\n",
       "    <tr>\n",
       "      <th>2074</th>\n",
       "      <td>2024-09-29</td>\n",
       "      <td>[0 0]</td>\n",
       "    </tr>\n",
       "    <tr>\n",
       "      <th>2075</th>\n",
       "      <td>2024-09-30</td>\n",
       "      <td>[0 0, MicroStrategy's Next Bitcoin Purchase Is...</td>\n",
       "    </tr>\n",
       "  </tbody>\n",
       "</table>\n",
       "<p>2076 rows × 2 columns</p>\n",
       "</div>"
      ],
      "text/plain": [
       "            Date                                               News\n",
       "0     2019-01-01                                              [0 0]\n",
       "1     2019-01-02  [0 0, Down More than 70% in 2018, Bitcoin Clos...\n",
       "2     2019-01-03  [0 0, Overstock Will Pay Some of Its 2019 Taxe...\n",
       "3     2019-01-04  [0 0, $4K Ahead? Bitcoin's Low-Volume Price Pu...\n",
       "4     2019-01-05  [0 0, Bitcoin Payments Aren't Dead, They've Ju...\n",
       "...          ...                                                ...\n",
       "2071  2024-09-26  [0 0, Crypto for Advisors: The Growth of Bitco...\n",
       "2072  2024-09-27  [0 0, The Paradox of the Bitcoin Maximalist Wh...\n",
       "2073  2024-09-28                                              [0 0]\n",
       "2074  2024-09-29                                              [0 0]\n",
       "2075  2024-09-30  [0 0, MicroStrategy's Next Bitcoin Purchase Is...\n",
       "\n",
       "[2076 rows x 2 columns]"
      ]
     },
     "execution_count": 31,
     "metadata": {},
     "output_type": "execute_result"
    }
   ],
   "source": [
    "grouped"
   ]
  },
  {
   "cell_type": "code",
   "execution_count": 32,
   "metadata": {},
   "outputs": [],
   "source": [
    "# Create new columns for each news item\n",
    "max_news = grouped['News'].apply(len).max()\n",
    "for i in range(1, max_news + 1):\n",
    "    grouped[f'News {i}'] = grouped['News'].apply(lambda x: x[i-1] if i <= len(x) else '')\n",
    "\n",
    "# Drop the original 'News' column\n",
    "grouped = grouped.drop('News', axis=1)\n",
    "\n",
    "# Rename columns to match desired output\n",
    "grouped.columns = ['Date'] + [f'News {i}' for i in range(1, max_news + 1)]\n",
    "\n",
    "# Remove any columns that are all empty (all zeros)\n",
    "grouped = grouped.loc[:, (grouped != '').any()]\n",
    "\n",
    "# Reset the index\n",
    "grouped = grouped.reset_index(drop=True)\n"
   ]
  },
  {
   "cell_type": "code",
   "execution_count": 42,
   "metadata": {},
   "outputs": [],
   "source": [
    "grouped = grouped.drop(columns=['News 1'])"
   ]
  },
  {
   "cell_type": "code",
   "execution_count": 46,
   "metadata": {},
   "outputs": [
    {
     "data": {
      "text/plain": [
       "2076"
      ]
     },
     "execution_count": 46,
     "metadata": {},
     "output_type": "execute_result"
    }
   ],
   "source": [
    "len(grouped)"
   ]
  },
  {
   "cell_type": "code",
   "execution_count": 47,
   "metadata": {},
   "outputs": [],
   "source": [
    "grouped = grouped.replace(r'^\\s*$', 0, regex=True)"
   ]
  },
  {
   "cell_type": "code",
   "execution_count": 50,
   "metadata": {},
   "outputs": [],
   "source": [
    "grouped.to_csv(\"./dataset/news_data_cleaned.csv\", index=False)"
   ]
  },
  {
   "cell_type": "code",
   "execution_count": null,
   "metadata": {},
   "outputs": [],
   "source": []
  }
 ],
 "metadata": {
  "kernelspec": {
   "display_name": ".venv",
   "language": "python",
   "name": "python3"
  },
  "language_info": {
   "codemirror_mode": {
    "name": "ipython",
    "version": 3
   },
   "file_extension": ".py",
   "mimetype": "text/x-python",
   "name": "python",
   "nbconvert_exporter": "python",
   "pygments_lexer": "ipython3",
   "version": "3.9.6"
  }
 },
 "nbformat": 4,
 "nbformat_minor": 2
}
