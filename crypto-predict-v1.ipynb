{
 "cells": [
  {
   "cell_type": "code",
   "execution_count": 5,
   "metadata": {},
   "outputs": [],
   "source": [
    "# pandas-datareader\n",
    "# scikit-learn\n",
    "# tensorflow\n",
    "# yfinance"
   ]
  },
  {
   "cell_type": "code",
   "execution_count": null,
   "metadata": {},
   "outputs": [],
   "source": [
    "# %pip install yfinance\n"
   ]
  },
  {
   "cell_type": "code",
   "execution_count": 2,
   "metadata": {},
   "outputs": [
    {
     "name": "stderr",
     "output_type": "stream",
     "text": [
      "/Users/hanif/Documents/machine learning/ann/.venv/lib/python3.9/site-packages/urllib3/__init__.py:35: NotOpenSSLWarning: urllib3 v2 only supports OpenSSL 1.1.1+, currently the 'ssl' module is compiled with 'LibreSSL 2.8.3'. See: https://github.com/urllib3/urllib3/issues/3020\n",
      "  warnings.warn(\n"
     ]
    }
   ],
   "source": []
  },
  {
   "cell_type": "code",
   "execution_count": 3,
   "metadata": {},
   "outputs": [
    {
     "name": "stderr",
     "output_type": "stream",
     "text": [
      "[*********************100%%**********************]  1 of 1 completed"
     ]
    },
    {
     "name": "stdout",
     "output_type": "stream",
     "text": [
      "                    Open          High           Low         Close  \\\n",
      "Date                                                                 \n",
      "2021-10-12  57526.832031  57627.878906  54477.972656  56041.058594   \n",
      "2021-10-13  56038.257812  57688.660156  54370.972656  57401.097656   \n",
      "2021-10-14  57372.832031  58478.734375  56957.074219  57321.523438   \n",
      "2021-10-15  57345.902344  62757.128906  56868.144531  61593.949219   \n",
      "2021-10-16  61609.527344  62274.476562  60206.121094  60892.179688   \n",
      "...                  ...           ...           ...           ...   \n",
      "2023-12-14  42884.261719  43390.859375  41767.089844  43023.972656   \n",
      "2023-12-15  43028.250000  43087.824219  41692.968750  41929.757812   \n",
      "2023-12-16  41937.742188  42664.945312  41723.113281  42240.117188   \n",
      "2023-12-17  42236.109375  42359.496094  41274.542969  41364.664062   \n",
      "2023-12-18  41348.203125  42720.296875  40530.257812  42623.539062   \n",
      "\n",
      "               Adj Close       Volume  \n",
      "Date                                   \n",
      "2021-10-12  56041.058594  41083758949  \n",
      "2021-10-13  57401.097656  41684252783  \n",
      "2021-10-14  57321.523438  36615791366  \n",
      "2021-10-15  61593.949219  51780081801  \n",
      "2021-10-16  60892.179688  34250964237  \n",
      "...                  ...          ...  \n",
      "2023-12-14  43023.972656  25578530178  \n",
      "2023-12-15  41929.757812  19639442462  \n",
      "2023-12-16  42240.117188  14386729590  \n",
      "2023-12-17  41364.664062  16678702876  \n",
      "2023-12-18  42623.539062  25224642008  \n",
      "\n",
      "[798 rows x 6 columns]\n"
     ]
    },
    {
     "name": "stderr",
     "output_type": "stream",
     "text": [
      "\n"
     ]
    }
   ],
   "source": []
  },
  {
   "cell_type": "code",
   "execution_count": 5,
   "metadata": {},
   "outputs": [
    {
     "data": {
      "text/plain": [
       "(798, 6)"
      ]
     },
     "execution_count": 5,
     "metadata": {},
     "output_type": "execute_result"
    }
   ],
   "source": [
    "data.shape"
   ]
  },
  {
   "cell_type": "code",
   "execution_count": 4,
   "metadata": {},
   "outputs": [],
   "source": [
    "data.to_csv(\"btcprice.csv\")"
   ]
  },
  {
   "cell_type": "code",
   "execution_count": 17,
   "metadata": {},
   "outputs": [],
   "source": [
    "# Scale data \n",
    "scaler = MinMaxScaler(feature_range=(0,1))   # Scale data between 0 and 1\n",
    "\n",
    "scaled_data = scaler.fit_transform(data['Close'].values.reshape(-1,1))\n",
    "\n",
    "predict_days = 60\n",
    "\n",
    "x_train, y_train = [],[]\n",
    "\n",
    "for x in range(predict_days, len(scaled_data)):\n",
    "     x_train.append(scaled_data[x-predict_days:x, 0])\n",
    "     y_train.append(scaled_data[x, 0])\n",
    "     \n",
    "x_train, y_train = np.array(x_train), np.array(y_train)\n",
    "x_train = np.reshape(x_train, (x_train.shape[0], x_train.shape[1], 1))\n",
    "\n"
   ]
  },
  {
   "cell_type": "code",
   "execution_count": null,
   "metadata": {},
   "outputs": [],
   "source": [
    "# Create Neural Network\n",
    "model = Sequential()\n",
    "\n",
    "model.add(LSTM(units=50, return_sequences=True, input_shape=(x_train.shape[1], 1)))\n",
    "model.add(Dropout(0.2))\n",
    "\n",
    "model.add(LSTM(units=50, return_sequences=True))\n",
    "model.add(Dropout(0.2))\n",
    "\n",
    "model.add(LSTM(units=50))\n",
    "model.add(Dropout(0.2))\n",
    "\n",
    "model.add(Dense(units=1))\n",
    "\n",
    "model.compile(optimizer='adam', loss='mean_squared_error')\n",
    "model.fit(x_train, y_train, epochs=25, batch_size=32)"
   ]
  },
  {
   "cell_type": "code",
   "execution_count": null,
   "metadata": {},
   "outputs": [],
   "source": [
    "# Test data\n",
    "test_start = dt.datetime(2020, 1, 1)\n",
    "test_end = dt.datetime.now()\n",
    "\n",
    "test_data = yf.download(f'{crypto_currency}-{against_currency}', start=test_start, end=test_end)\n",
    "\n",
    "actual_prices = test_data['Close'].values\n",
    "\n",
    "total_dataset = pd.concat((data['Close'], test_data['Close']), axis=0)\n",
    "\n",
    "model_inputs = total_dataset[len(total_dataset) - len(test_data) - predict_days:].values\n",
    "model_inputs = model_inputs.reshape(-1,1)\n",
    "model_inputs = scaler.fit_transform(model_inputs)"
   ]
  },
  {
   "cell_type": "code",
   "execution_count": null,
   "metadata": {},
   "outputs": [],
   "source": [
    "x_test = []\n",
    "for x in range(predict_days, len(model_inputs)):\n",
    "     x_test.append(model_inputs[x-predict_days:x, 0])\n",
    "     \n",
    "     \n",
    "x_test = np.array(x_test)\n",
    "x_test = np.reshape(x_test, (x_test.shape[0], x_test.shape[1], 1))"
   ]
  },
  {
   "cell_type": "code",
   "execution_count": null,
   "metadata": {},
   "outputs": [],
   "source": [
    "# Prediction prices\n",
    "\n",
    "prediction_prices = model.predict(x_test)\n",
    "prediction_prices=scaler.inverse_transform(prediction_prices)"
   ]
  },
  {
   "cell_type": "code",
   "execution_count": null,
   "metadata": {},
   "outputs": [],
   "source": [
    "# Plot prices\n",
    "plt.plot(actual_prices, color='black', label=f'Actual {crypto_currency} Price')\n",
    "plt.plot(prediction_prices, color='green', label=f'Predicted {crypto_currency} Price')\n",
    "plt.title(f'{crypto_currency} Price Prediction')\n",
    "plt.xlabel('Time')\n",
    "plt.ylabel(f'{crypto_currency} Price')\n",
    "plt.legend(loc='upper left')\n",
    "plt.show()"
   ]
  },
  {
   "cell_type": "code",
   "execution_count": null,
   "metadata": {},
   "outputs": [],
   "source": [
    "# Predict next day\n",
    "\n",
    "real_data = [model_inputs[len(model_inputs) + 1 - predict_days:len(model_inputs) + 1, 0]]\n",
    "real_data = np.array(real_data)\n",
    "real_data = np.reshape(real_data, (real_data.shape[0], real_data.shape[1], 1))\n",
    "\n",
    "prediction = model.predict(real_data)\n",
    "prediction = scaler.inverse_transform(prediction)\n",
    "print(f'Predicted {crypto_currency} price for next day: {prediction}')"
   ]
  }
 ],
 "metadata": {
  "kernelspec": {
   "display_name": ".venv",
   "language": "python",
   "name": "python3"
  },
  "language_info": {
   "codemirror_mode": {
    "name": "ipython",
    "version": 3
   },
   "file_extension": ".py",
   "mimetype": "text/x-python",
   "name": "python",
   "nbconvert_exporter": "python",
   "pygments_lexer": "ipython3",
   "version": "3.9.6"
  }
 },
 "nbformat": 4,
 "nbformat_minor": 2
}
