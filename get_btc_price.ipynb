{
 "cells": [
  {
   "cell_type": "code",
   "execution_count": 1,
   "metadata": {},
   "outputs": [
    {
     "name": "stderr",
     "output_type": "stream",
     "text": [
      "/Users/hanif/Documents/machine learning/ann/.venv/lib/python3.9/site-packages/urllib3/__init__.py:35: NotOpenSSLWarning: urllib3 v2 only supports OpenSSL 1.1.1+, currently the 'ssl' module is compiled with 'LibreSSL 2.8.3'. See: https://github.com/urllib3/urllib3/issues/3020\n",
      "  warnings.warn(\n"
     ]
    }
   ],
   "source": [
    "import numpy as np\n",
    "import matplotlib.pyplot as plt\n",
    "import pandas as pd\n",
    "import pandas_datareader.data as web\n",
    "import datetime as dt\n",
    "\n",
    "\n",
    "from sklearn.preprocessing import MinMaxScaler\n",
    "from tensorflow.keras.layers import Dense, Dropout, LSTM\n",
    "from tensorflow.keras.models import Sequential\n",
    "\n",
    "import yfinance as yf\n",
    "\n"
   ]
  },
  {
   "cell_type": "code",
   "execution_count": 2,
   "metadata": {},
   "outputs": [
    {
     "name": "stderr",
     "output_type": "stream",
     "text": [
      "[*********************100%%**********************]  1 of 1 completed"
     ]
    },
    {
     "name": "stdout",
     "output_type": "stream",
     "text": [
      "                    Open          High           Low         Close  \\\n",
      "Date                                                                 \n",
      "2019-01-01   3746.713379   3850.913818   3707.231201   3843.520020   \n",
      "2019-01-02   3849.216309   3947.981201   3817.409424   3943.409424   \n",
      "2019-01-03   3931.048584   3935.685059   3826.222900   3836.741211   \n",
      "2019-01-04   3832.040039   3865.934570   3783.853760   3857.717529   \n",
      "2019-01-05   3851.973877   3904.903076   3836.900146   3845.194580   \n",
      "...                  ...           ...           ...           ...   \n",
      "2024-09-26  63138.546875  65790.796875  62669.269531  65181.019531   \n",
      "2024-09-27  65180.664062  66480.695312  64852.992188  65790.664062   \n",
      "2024-09-28  65792.179688  66255.531250  65458.035156  65887.648438   \n",
      "2024-09-29  65888.898438  66069.343750  65450.015625  65635.304688   \n",
      "2024-09-30  65634.656250  65635.054688  62873.617188  63329.500000   \n",
      "\n",
      "               Adj Close       Volume  \n",
      "Date                                   \n",
      "2019-01-01   3843.520020   4324200990  \n",
      "2019-01-02   3943.409424   5244856836  \n",
      "2019-01-03   3836.741211   4530215219  \n",
      "2019-01-04   3857.717529   4847965467  \n",
      "2019-01-05   3845.194580   5137609824  \n",
      "...                  ...          ...  \n",
      "2024-09-26  65181.019531  36873129847  \n",
      "2024-09-27  65790.664062  32058813449  \n",
      "2024-09-28  65887.648438  15243637984  \n",
      "2024-09-29  65635.304688  14788214575  \n",
      "2024-09-30  63329.500000  37112957475  \n",
      "\n",
      "[2100 rows x 6 columns]\n"
     ]
    },
    {
     "name": "stderr",
     "output_type": "stream",
     "text": [
      "\n"
     ]
    }
   ],
   "source": [
    "crypto_currency = 'BTC'\n",
    "against_currency = 'USD'\n",
    "\n",
    "start = dt.datetime(2019, 1, 1)\n",
    "end = dt.datetime(2024, 10, 1)\n",
    "\n",
    "# df = web.DataReader(f'{crypto_currency}-{against_currency}', 'yahoo', start, end)\n",
    "\n",
    "data = yf.download(f'{crypto_currency}-{against_currency}', start=start, end=end)\n",
    "\n",
    "print(data)\n",
    "# 2021-10-12 / 2023-12-19"
   ]
  },
  {
   "cell_type": "code",
   "execution_count": 5,
   "metadata": {},
   "outputs": [
    {
     "data": {
      "text/html": [
       "<div>\n",
       "<style scoped>\n",
       "    .dataframe tbody tr th:only-of-type {\n",
       "        vertical-align: middle;\n",
       "    }\n",
       "\n",
       "    .dataframe tbody tr th {\n",
       "        vertical-align: top;\n",
       "    }\n",
       "\n",
       "    .dataframe thead th {\n",
       "        text-align: right;\n",
       "    }\n",
       "</style>\n",
       "<table border=\"1\" class=\"dataframe\">\n",
       "  <thead>\n",
       "    <tr style=\"text-align: right;\">\n",
       "      <th></th>\n",
       "      <th>Open</th>\n",
       "      <th>High</th>\n",
       "      <th>Low</th>\n",
       "      <th>Close</th>\n",
       "      <th>Adj Close</th>\n",
       "      <th>Volume</th>\n",
       "    </tr>\n",
       "    <tr>\n",
       "      <th>Date</th>\n",
       "      <th></th>\n",
       "      <th></th>\n",
       "      <th></th>\n",
       "      <th></th>\n",
       "      <th></th>\n",
       "      <th></th>\n",
       "    </tr>\n",
       "  </thead>\n",
       "  <tbody>\n",
       "    <tr>\n",
       "      <th>2019-01-01</th>\n",
       "      <td>3746.713379</td>\n",
       "      <td>3850.913818</td>\n",
       "      <td>3707.231201</td>\n",
       "      <td>3843.520020</td>\n",
       "      <td>3843.520020</td>\n",
       "      <td>4324200990</td>\n",
       "    </tr>\n",
       "    <tr>\n",
       "      <th>2019-01-02</th>\n",
       "      <td>3849.216309</td>\n",
       "      <td>3947.981201</td>\n",
       "      <td>3817.409424</td>\n",
       "      <td>3943.409424</td>\n",
       "      <td>3943.409424</td>\n",
       "      <td>5244856836</td>\n",
       "    </tr>\n",
       "    <tr>\n",
       "      <th>2019-01-03</th>\n",
       "      <td>3931.048584</td>\n",
       "      <td>3935.685059</td>\n",
       "      <td>3826.222900</td>\n",
       "      <td>3836.741211</td>\n",
       "      <td>3836.741211</td>\n",
       "      <td>4530215219</td>\n",
       "    </tr>\n",
       "    <tr>\n",
       "      <th>2019-01-04</th>\n",
       "      <td>3832.040039</td>\n",
       "      <td>3865.934570</td>\n",
       "      <td>3783.853760</td>\n",
       "      <td>3857.717529</td>\n",
       "      <td>3857.717529</td>\n",
       "      <td>4847965467</td>\n",
       "    </tr>\n",
       "    <tr>\n",
       "      <th>2019-01-05</th>\n",
       "      <td>3851.973877</td>\n",
       "      <td>3904.903076</td>\n",
       "      <td>3836.900146</td>\n",
       "      <td>3845.194580</td>\n",
       "      <td>3845.194580</td>\n",
       "      <td>5137609824</td>\n",
       "    </tr>\n",
       "  </tbody>\n",
       "</table>\n",
       "</div>"
      ],
      "text/plain": [
       "                   Open         High          Low        Close    Adj Close  \\\n",
       "Date                                                                          \n",
       "2019-01-01  3746.713379  3850.913818  3707.231201  3843.520020  3843.520020   \n",
       "2019-01-02  3849.216309  3947.981201  3817.409424  3943.409424  3943.409424   \n",
       "2019-01-03  3931.048584  3935.685059  3826.222900  3836.741211  3836.741211   \n",
       "2019-01-04  3832.040039  3865.934570  3783.853760  3857.717529  3857.717529   \n",
       "2019-01-05  3851.973877  3904.903076  3836.900146  3845.194580  3845.194580   \n",
       "\n",
       "                Volume  \n",
       "Date                    \n",
       "2019-01-01  4324200990  \n",
       "2019-01-02  5244856836  \n",
       "2019-01-03  4530215219  \n",
       "2019-01-04  4847965467  \n",
       "2019-01-05  5137609824  "
      ]
     },
     "execution_count": 5,
     "metadata": {},
     "output_type": "execute_result"
    }
   ],
   "source": [
    "data.head()"
   ]
  },
  {
   "cell_type": "code",
   "execution_count": 6,
   "metadata": {},
   "outputs": [],
   "source": [
    "data_cut = data[\"Close\"]"
   ]
  },
  {
   "cell_type": "code",
   "execution_count": 7,
   "metadata": {},
   "outputs": [
    {
     "data": {
      "text/plain": [
       "Date\n",
       "2019-01-01     3843.520020\n",
       "2019-01-02     3943.409424\n",
       "2019-01-03     3836.741211\n",
       "2019-01-04     3857.717529\n",
       "2019-01-05     3845.194580\n",
       "                  ...     \n",
       "2024-09-26    65181.019531\n",
       "2024-09-27    65790.664062\n",
       "2024-09-28    65887.648438\n",
       "2024-09-29    65635.304688\n",
       "2024-09-30    63329.500000\n",
       "Name: Close, Length: 2100, dtype: float64"
      ]
     },
     "execution_count": 7,
     "metadata": {},
     "output_type": "execute_result"
    }
   ],
   "source": [
    "data_cut"
   ]
  },
  {
   "cell_type": "code",
   "execution_count": 8,
   "metadata": {},
   "outputs": [],
   "source": [
    "data.to_csv(\"data/btcpriceolder.csv\")"
   ]
  }
 ],
 "metadata": {
  "kernelspec": {
   "display_name": ".venv",
   "language": "python",
   "name": "python3"
  },
  "language_info": {
   "codemirror_mode": {
    "name": "ipython",
    "version": 3
   },
   "file_extension": ".py",
   "mimetype": "text/x-python",
   "name": "python",
   "nbconvert_exporter": "python",
   "pygments_lexer": "ipython3",
   "version": "3.9.6"
  }
 },
 "nbformat": 4,
 "nbformat_minor": 2
}
