{
 "cells": [
  {
   "cell_type": "code",
   "execution_count": 6,
   "metadata": {},
   "outputs": [],
   "source": [
    "# Using finBert to analyse bitcoin news scape data\n",
    "# Convert articles to word embeddings\n",
    "# Get LSTM data same period of time\n",
    "import time\n",
    "from selenium import webdriver\n",
    "from selenium.webdriver.common.by import By\n",
    "from selenium.webdriver.support.ui import WebDriverWait\n",
    "from selenium.webdriver.support import expected_conditions as EC\n",
    "import pandas as pd"
   ]
  },
  {
   "cell_type": "code",
   "execution_count": 7,
   "metadata": {},
   "outputs": [],
   "source": [
    "# %pip install requests beautifulsoup4\n",
    "# %pip install selenium\n"
   ]
  },
  {
   "cell_type": "code",
   "execution_count": 8,
   "metadata": {},
   "outputs": [],
   "source": [
    "import requests\n",
    "from bs4 import BeautifulSoup"
   ]
  },
  {
   "cell_type": "code",
   "execution_count": 4,
   "metadata": {},
   "outputs": [
    {
     "name": "stdout",
     "output_type": "stream",
     "text": [
      "Unix timestamp in milliseconds for 2023-01-02: 1672614000000\n"
     ]
    }
   ],
   "source": [
    "# https://www.coindesk.com/search?s=bitcoin&sd=1672596621000&ed=1672596621000&df=Custom\n",
    "\n",
    "# The date style in the URL is Unix timestamp in milliseconds\n",
    "# 1672596621000 corresponds to January 1, 2023, 12:03:41 AM GMT\n",
    "\n",
    "# To convert a date like '2023-01-01' to this format:\n",
    "from datetime import datetime\n",
    "import time\n",
    "\n",
    "date_str = '2023-01-02'\n",
    "date_obj = datetime.strptime(date_str, '%Y-%m-%d')\n",
    "unix_timestamp_ms = int(time.mktime(date_obj.timetuple()) * 1000)\n",
    "\n",
    "print(f\"Unix timestamp in milliseconds for {date_str}: {unix_timestamp_ms}\")"
   ]
  },
  {
   "cell_type": "code",
   "execution_count": null,
   "metadata": {},
   "outputs": [],
   "source": []
  },
  {
   "cell_type": "code",
   "execution_count": 12,
   "metadata": {},
   "outputs": [
    {
     "name": "stdout",
     "output_type": "stream",
     "text": [
      "Body available\n",
      "All articles for 2019-01-01 00:00:00: 1\n",
      "Body available\n",
      "All articles for 2019-01-02 00:00:00: 5\n",
      "Seccessfully scraped 6 data from 2019-01-01 00:00:00 to 2019-01-02 00:00:00\n"
     ]
    }
   ],
   "source": [
    "\n",
    "from datetime import datetime, timedelta\n",
    "import json\n",
    "\n",
    "def scrape_coindesk(start_date, end_date):\n",
    "    base_url = \"https://www.coindesk.com/search?s=bitcoin\"\n",
    "    headers = {\n",
    "        \"User-Agent\": \"Mozilla/5.0 (Windows NT 10.0; Win64; x64) AppleWebKit/537.36 (KHTML, like Gecko) Chrome/91.0.4472.124 Safari/537.36\"\n",
    "    }\n",
    "    \n",
    "    current_date = start_date\n",
    "    results = []\n",
    "    \n",
    "    options = webdriver.ChromeOptions()\n",
    "    options.add_argument('--headless')\n",
    "    driver = webdriver.Chrome(options=options)\n",
    "\n",
    "    while current_date <= end_date:\n",
    "        curr_date_str = current_date.strftime('%Y-%m-%d')\n",
    "        date_unix = int(time.mktime(current_date.timetuple()) * 1000)\n",
    "        url = f\"{base_url}&sd={date_unix}&ed={date_unix}&df=Custom\"\n",
    "        driver.get(url)\n",
    "    \n",
    "        # Wait for the search results to load\n",
    "        try:\n",
    "            WebDriverWait(driver, 20).until(\n",
    "                EC.presence_of_element_located((By.CLASS_NAME, \"searchstyles__SearchCardWrapper-sc-ci5zlg-21\"))\n",
    "            )\n",
    "        except:\n",
    "            print(f\"Timeout waiting for search results on {current_date}\")\n",
    "            continue\n",
    "        \n",
    "        html_content = driver.page_source\n",
    "        soup = BeautifulSoup(html_content, 'html.parser')\n",
    "        \n",
    "        body_content = soup.find('body')\n",
    "        if body_content:\n",
    "            print(\"Body available\")\n",
    "        else:\n",
    "            print(\"Body tag not found\")\n",
    "        \n",
    "        articles = soup.find_all('div', {\"class\": 'searchstyles__SearchCardWrapper-sc-ci5zlg-21 jjGJEL'}, limit=6)\n",
    "        print(f\"All articles for {current_date}: {len(articles)}\")\n",
    "        for article in articles:\n",
    "            title_element = article.find('h6', class_='typography__StyledTypography-sc-owin6q-0 dtjHgI')\n",
    "            title = title_element.text.strip() if title_element else 0\n",
    "            \n",
    "            description_element = article.find('p', class_='typography__StyledTypography-sc-owin6q-0')\n",
    "            description = description_element.text.strip() if description_element else 0\n",
    "            \n",
    "            results.append({\n",
    "                \"date\": curr_date_str,\n",
    "                \"title\": title,\n",
    "                \"description\": description\n",
    "            })\n",
    "        \n",
    "        current_date += timedelta(days=1)\n",
    "    \n",
    "    return results\n",
    "\n",
    "# Example usage\n",
    "start_date = datetime(2019, 1, 1)\n",
    "\n",
    "\n",
    "end_date = datetime(2019, 1, 2)\n",
    "\n",
    "scraped_data = scrape_coindesk(start_date, end_date)\n",
    "\n",
    "# Print the results\n",
    "# print(json.dumps(scraped_data, indent=2))\n",
    "print(f\"Seccessfully scraped {len(scraped_data)} data from {start_date} to {end_date}\")"
   ]
  },
  {
   "cell_type": "code",
   "execution_count": 13,
   "metadata": {},
   "outputs": [
    {
     "data": {
      "text/plain": [
       "[{'date': '2019-01-01', 'title': 0, 'description': 0},\n",
       " {'date': '2019-01-02', 'title': 0, 'description': 0},\n",
       " {'date': '2019-01-02',\n",
       "  'title': 'Down More than 70% in 2018, Bitcoin Closes Its Worst Year on Record',\n",
       "  'description': \"Bitcoin's price just finished its worst performing year ever, closing 2018 at a more than 70 percent lower price than its yearly open.\"},\n",
       " {'date': '2019-01-02',\n",
       "  'title': 'Bitcoin Price Suffers Worst Monthly Losing Streak in 7 Years',\n",
       "  'description': 'Bitcoin fell for the fifth month in a row in December, confirming its longest monthly losing streak since November 2011.'},\n",
       " {'date': '2019-01-02',\n",
       "  'title': 'E-Commerce Giant DMM Quits Cryptocurrency Mining Business',\n",
       "  'description': 'Japanese e-commerce giant DMM.com is in the process of winding down its cryptocurrency mining business due to the crypto market slump.'},\n",
       " {'date': '2019-01-02',\n",
       "  'title': 'The Secret for a $1 Trillion Crypto Market? Keep Building',\n",
       "  'description': \"Sure, the crypto market boom of 2017 exposed the industry's lack of infrastructure. That just means the solution is clear – we must build it and keep building.\"}]"
      ]
     },
     "execution_count": 13,
     "metadata": {},
     "output_type": "execute_result"
    }
   ],
   "source": [
    "scraped_data"
   ]
  },
  {
   "cell_type": "code",
   "execution_count": 7,
   "metadata": {},
   "outputs": [],
   "source": [
    "df = pd.DataFrame(scraped_data)\n",
    "df.to_csv('./dataset/news-coindesk.csv')"
   ]
  }
 ],
 "metadata": {
  "kernelspec": {
   "display_name": ".venv",
   "language": "python",
   "name": "python3"
  },
  "language_info": {
   "codemirror_mode": {
    "name": "ipython",
    "version": 3
   },
   "file_extension": ".py",
   "mimetype": "text/x-python",
   "name": "python",
   "nbconvert_exporter": "python",
   "pygments_lexer": "ipython3",
   "version": "3.9.6"
  }
 },
 "nbformat": 4,
 "nbformat_minor": 2
}
