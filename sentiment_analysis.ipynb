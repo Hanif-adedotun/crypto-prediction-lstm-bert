{
 "cells": [
  {
   "cell_type": "code",
   "execution_count": 5,
   "metadata": {},
   "outputs": [],
   "source": [
    "# Requirements\n",
    "# transformers\n",
    "# nltk"
   ]
  },
  {
   "cell_type": "code",
   "execution_count": null,
   "metadata": {},
   "outputs": [],
   "source": [
    "# %pip install transformers\n",
    "%pip install nltk"
   ]
  },
  {
   "cell_type": "code",
   "execution_count": 10,
   "metadata": {},
   "outputs": [],
   "source": [
    "import pandas as pd\n",
    "\n",
    "import json\n",
    "\n",
    "from transformers import AutoTokenizer, AutoModelForSequenceClassification\n",
    "from transformers import pipeline\n",
    "\n",
    "import nltk\n",
    "from nltk.sentiment.vader import SentimentIntensityAnalyzer\n",
    "from nltk.sentiment.vader import SentimentIntensityAnalyzer"
   ]
  },
  {
   "cell_type": "code",
   "execution_count": 9,
   "metadata": {},
   "outputs": [],
   "source": [
    "def FinBERT_sentiment_score(heading):\n",
    "    \"\"\"\n",
    "    compute sentiment score using pretrained FinBERT on -1 to 1 scale. -1 being negative and 1 being positive\n",
    "    \"\"\"\n",
    "\n",
    "    tokenizer = AutoTokenizer.from_pretrained('ProsusAI/finbert')\n",
    "    finbert = AutoModelForSequenceClassification.from_pretrained('ProsusAI/finbert')\n",
    "    nlp = pipeline(\"sentiment-analysis\", model=finbert, tokenizer=tokenizer)\n",
    "    result = nlp(heading)\n",
    "    if result[0]['label'] == \"positive\":\n",
    "        return result[0]['score']\n",
    "    elif result[0]['label'] == \"neutral\":\n",
    "        return 0\n",
    "    else:\n",
    "        return (0 - result[0]['score'])"
   ]
  },
  {
   "cell_type": "code",
   "execution_count": null,
   "metadata": {},
   "outputs": [],
   "source": [
    "def VADER_sentiment_score(heading):\n",
    "    \"\"\"\n",
    "    compute sentiment score using pretrained VADER on -1 to 1 scale. -1 being negative and 1 being positive\n",
    "    \"\"\"\n",
    "    nltk.download('vader_lexicon')\n",
    "\n",
    "    analyzer = SentimentIntensityAnalyzer()\n",
    "    result = analyzer.polarity_scores(heading)\n",
    "    if result['pos'] == max(result['neg'], result['neu'], result['pos']):\n",
    "        return result['pos']\n",
    "    if result['neg'] == max(result['neg'], result['neu'], result['pos']):\n",
    "        return (0 - result['neg'])\n",
    "    else:\n",
    "        return 0"
   ]
  },
  {
   "cell_type": "code",
   "execution_count": 11,
   "metadata": {},
   "outputs": [],
   "source": [
    "news_df = pd.read_csv(\"cryptonews.csv\")"
   ]
  },
  {
   "cell_type": "code",
   "execution_count": 17,
   "metadata": {},
   "outputs": [
    {
     "data": {
      "text/plain": [
       "['date', 'sentiment', 'source', 'subject', 'text', 'title', 'url']"
      ]
     },
     "execution_count": 17,
     "metadata": {},
     "output_type": "execute_result"
    }
   ],
   "source": [
    "news_df.columns.to_list()"
   ]
  },
  {
   "cell_type": "code",
   "execution_count": 25,
   "metadata": {},
   "outputs": [
    {
     "data": {
      "text/plain": [
       "31037"
      ]
     },
     "execution_count": 25,
     "metadata": {},
     "output_type": "execute_result"
    }
   ],
   "source": [
    "len(news_df)"
   ]
  },
  {
   "cell_type": "code",
   "execution_count": 26,
   "metadata": {},
   "outputs": [
    {
     "data": {
      "text/plain": [
       "text     Grayscale CEO Michael Sonnenshein believes the...\n",
       "title    Grayscale CEO Calls for Simultaneous Approval ...\n",
       "Name: 0, dtype: object"
      ]
     },
     "execution_count": 26,
     "metadata": {},
     "output_type": "execute_result"
    }
   ],
   "source": [
    "news_df.loc[0,'text':'title']\n"
   ]
  },
  {
   "cell_type": "code",
   "execution_count": 41,
   "metadata": {},
   "outputs": [
    {
     "name": "stdout",
     "output_type": "stream",
     "text": [
      "Grayscale CEO Michael Sonnenshein believes the SEC needs to approve spot Bitcoin exchange-traded funds (ETFs) simultaneously.\n"
     ]
    },
    {
     "name": "stderr",
     "output_type": "stream",
     "text": [
      "/Users/hanif/Documents/machine learning/ann/.venv/lib/python3.9/site-packages/transformers/tokenization_utils_base.py:1601: FutureWarning: `clean_up_tokenization_spaces` was not set. It will be set to `True` by default. This behavior will be depracted in transformers v4.45, and will be then set to `False` by default. For more details check this issue: https://github.com/huggingface/transformers/issues/31884\n",
      "  warnings.warn(\n",
      "Hardware accelerator e.g. GPU is available in the environment, but no `device` argument is passed to the `Pipeline` object. Model will be on CPU.\n"
     ]
    },
    {
     "name": "stdout",
     "output_type": "stream",
     "text": [
      "In an exclusive interview with CryptoNews, Manhar Garegrat, the Country Head for India and Global Partnerships of Liminal Custody, shares insights into crypto industry's collaborations with India government.\n"
     ]
    },
    {
     "name": "stderr",
     "output_type": "stream",
     "text": [
      "Hardware accelerator e.g. GPU is available in the environment, but no `device` argument is passed to the `Pipeline` object. Model will be on CPU.\n"
     ]
    },
    {
     "name": "stdout",
     "output_type": "stream",
     "text": [
      "According to the Federal Court ruling on December 18, former Binance CEO Changpeng 'CZ' Zhao has been ordered to pay $150 million, while Binance will pay $2.7 billion to conclude the CFTC enforcement action.\n"
     ]
    },
    {
     "name": "stderr",
     "output_type": "stream",
     "text": [
      "Hardware accelerator e.g. GPU is available in the environment, but no `device` argument is passed to the `Pipeline` object. Model will be on CPU.\n"
     ]
    },
    {
     "name": "stdout",
     "output_type": "stream",
     "text": [
      "Some suggest EVM inscriptions are the latest way for retail to access low-cap coins, while others argue it’s an over-hyped fad. Whatever it is, it’s clogging up the blockchain.\n"
     ]
    },
    {
     "name": "stderr",
     "output_type": "stream",
     "text": [
      "Hardware accelerator e.g. GPU is available in the environment, but no `device` argument is passed to the `Pipeline` object. Model will be on CPU.\n"
     ]
    },
    {
     "name": "stdout",
     "output_type": "stream",
     "text": [
      "A decision by bloXroute Labs to start censoring OFAC-sanctioned blocks has been seen as a loss for Ethereum censorship resistance.\n"
     ]
    },
    {
     "name": "stderr",
     "output_type": "stream",
     "text": [
      "Hardware accelerator e.g. GPU is available in the environment, but no `device` argument is passed to the `Pipeline` object. Model will be on CPU.\n"
     ]
    },
    {
     "name": "stdout",
     "output_type": "stream",
     "text": [
      "Yonsei found that during BTC’s rally in early December, the Binary CDD was also active, signaling recent activity by short-term holders.\n"
     ]
    },
    {
     "name": "stderr",
     "output_type": "stream",
     "text": [
      "Hardware accelerator e.g. GPU is available in the environment, but no `device` argument is passed to the `Pipeline` object. Model will be on CPU.\n"
     ]
    },
    {
     "name": "stdout",
     "output_type": "stream",
     "text": [
      "Cathie Wood led ARK Invest fund sold around 809, 441 Grayscale Bitcoin Trust (GBTC) shares worth $27.6 million on Monday.\n"
     ]
    },
    {
     "name": "stderr",
     "output_type": "stream",
     "text": [
      "Hardware accelerator e.g. GPU is available in the environment, but no `device` argument is passed to the `Pipeline` object. Model will be on CPU.\n"
     ]
    },
    {
     "name": "stdout",
     "output_type": "stream",
     "text": [
      "Bitcoin's 150% surge pales in comparison to the staggering 266% return of listed mining companies and crypto firms like Coinbase.\n"
     ]
    },
    {
     "name": "stderr",
     "output_type": "stream",
     "text": [
      "Hardware accelerator e.g. GPU is available in the environment, but no `device` argument is passed to the `Pipeline` object. Model will be on CPU.\n"
     ]
    },
    {
     "name": "stdout",
     "output_type": "stream",
     "text": [
      "The South Korean city of Busan is edging closer to the launch of a long-awaited blockchain-powered digital assets trading platform, and has named a preferred bidder.\n"
     ]
    },
    {
     "name": "stderr",
     "output_type": "stream",
     "text": [
      "Hardware accelerator e.g. GPU is available in the environment, but no `device` argument is passed to the `Pipeline` object. Model will be on CPU.\n"
     ]
    },
    {
     "name": "stdout",
     "output_type": "stream",
     "text": [
      "The SEC has pushed back its decision on a roster of Ethereum ETFs, with the final date for a potential approval arriving in late May.\n"
     ]
    },
    {
     "name": "stderr",
     "output_type": "stream",
     "text": [
      "Hardware accelerator e.g. GPU is available in the environment, but no `device` argument is passed to the `Pipeline` object. Model will be on CPU.\n"
     ]
    }
   ],
   "source": [
    "BERT_sentiment = []\n",
    "\n",
    "for i in range(10):\n",
    "    news_list = news_df.loc[i,'text']\n",
    "    # This line creates a new list by filtering out '0' values from news_list\n",
    "    # It keeps all elements that are not equal to the string '0'\n",
    "    # This is likely done to remove placeholder or empty entries in the data\n",
    "    # news_list = [i for i in news_list if i != '0']\n",
    "    print(news_list)\n",
    "    score_BERT = FinBERT_sentiment_score(news_list)\n",
    "    BERT_sentiment.append(score_BERT)\n",
    "\n",
    "\n",
    "# print(news_df.iloc[129])\n",
    "\n",
    "# news_df['FinBERT score'] = BERT_sentiment\n",
    "\n",
    "# news_df.to_csv(\"sentiment.csv\")"
   ]
  },
  {
   "cell_type": "code",
   "execution_count": 43,
   "metadata": {},
   "outputs": [
    {
     "data": {
      "text/plain": [
       "[0,\n",
       " 0,\n",
       " -0.9243603348731995,\n",
       " -0.8380358219146729,\n",
       " -0.899738073348999,\n",
       " 0.7201951146125793,\n",
       " 0,\n",
       " -0.9167304635047913,\n",
       " 0.8804431557655334,\n",
       " -0.8853552341461182]"
      ]
     },
     "execution_count": 43,
     "metadata": {},
     "output_type": "execute_result"
    }
   ],
   "source": [
    "BERT_sentiment"
   ]
  },
  {
   "cell_type": "code",
   "execution_count": 44,
   "metadata": {},
   "outputs": [
    {
     "data": {
      "text/plain": [
       "0     {'class': 'negative', 'polarity': -0.1, 'subje...\n",
       "1     {'class': 'neutral', 'polarity': 0.0, 'subject...\n",
       "2     {'class': 'positive', 'polarity': 0.05, 'subje...\n",
       "3     {'class': 'positive', 'polarity': 0.5, 'subjec...\n",
       "4     {'class': 'neutral', 'polarity': 0.0, 'subject...\n",
       "5     {'class': 'negative', 'polarity': -0.01, 'subj...\n",
       "6     {'class': 'positive', 'polarity': 0.3, 'subjec...\n",
       "7     {'class': 'neutral', 'polarity': 0.0, 'subject...\n",
       "8     {'class': 'neutral', 'polarity': 0.0, 'subject...\n",
       "9     {'class': 'negative', 'polarity': -0.08, 'subj...\n",
       "10    {'class': 'positive', 'polarity': 0.01, 'subje...\n",
       "Name: sentiment, dtype: object"
      ]
     },
     "execution_count": 44,
     "metadata": {},
     "output_type": "execute_result"
    }
   ],
   "source": [
    "# news_df.loc[:10,'sentiment']"
   ]
  },
  {
   "cell_type": "code",
   "execution_count": 75,
   "metadata": {},
   "outputs": [],
   "source": [
    "# import json\n",
    "\n",
    "# sentiment_dict = news_df.loc[0, 'sentiment']\n",
    "# sentiment_json = eval(sentiment_dict)\n"
   ]
  },
  {
   "cell_type": "markdown",
   "metadata": {},
   "source": [
    "Used the polarity from the dataset for now, will create a second model with collected news and pass through the fBERT sentiment analyser"
   ]
  },
  {
   "cell_type": "code",
   "execution_count": 81,
   "metadata": {},
   "outputs": [],
   "source": [
    "polarity = []\n",
    "\n",
    "for i in range(len(news_df)):\n",
    "     sentiment_dict = news_df.loc[i, 'sentiment']\n",
    "     sentiment_json = eval(sentiment_dict)\n",
    "     polarity.append(sentiment_json[\"polarity\"])"
   ]
  },
  {
   "cell_type": "code",
   "execution_count": 83,
   "metadata": {},
   "outputs": [],
   "source": [
    "news_df[\"polarity\"] = polarity"
   ]
  },
  {
   "cell_type": "code",
   "execution_count": 84,
   "metadata": {},
   "outputs": [],
   "source": [
    "news_df.to_csv(\"cryptonews_sentiment.csv\")"
   ]
  },
  {
   "cell_type": "code",
   "execution_count": null,
   "metadata": {},
   "outputs": [],
   "source": []
  }
 ],
 "metadata": {
  "kernelspec": {
   "display_name": ".venv",
   "language": "python",
   "name": "python3"
  },
  "language_info": {
   "codemirror_mode": {
    "name": "ipython",
    "version": 3
   },
   "file_extension": ".py",
   "mimetype": "text/x-python",
   "name": "python",
   "nbconvert_exporter": "python",
   "pygments_lexer": "ipython3",
   "version": "3.9.6"
  }
 },
 "nbformat": 4,
 "nbformat_minor": 2
}
